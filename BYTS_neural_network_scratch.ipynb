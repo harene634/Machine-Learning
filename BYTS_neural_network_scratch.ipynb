{
  "nbformat": 4,
  "nbformat_minor": 0,
  "metadata": {
    "colab": {
      "provenance": [],
      "authorship_tag": "ABX9TyNIJxA8aKmbIIzmZIlOA7GK",
      "include_colab_link": true
    },
    "kernelspec": {
      "name": "python3",
      "display_name": "Python 3"
    },
    "language_info": {
      "name": "python"
    }
  },
  "cells": [
    {
      "cell_type": "markdown",
      "metadata": {
        "id": "view-in-github",
        "colab_type": "text"
      },
      "source": [
        "<a href=\"https://colab.research.google.com/github/harene634/Machine-Learning/blob/main/BYTS_neural_network_scratch.ipynb\" target=\"_parent\"><img src=\"https://colab.research.google.com/assets/colab-badge.svg\" alt=\"Open In Colab\"/></a>"
      ]
    },
    {
      "cell_type": "code",
      "source": [
        "import numpy as np\n",
        "from sklearn import datasets\n",
        "from sklearn.preprocessing import OneHotEncoder\n",
        "from sklearn.model_selection import train_test_split\n",
        "\n",
        "# Load Iris dataset\n",
        "iris = datasets.load_iris()\n",
        "X = iris.data\n",
        "y = iris.target.reshape(-1, 1)\n",
        "\n",
        "# One-hot encode the target labels\n",
        "encoder = OneHotEncoder()\n",
        "y = encoder.fit_transform(y).toarray()\n",
        "\n",
        "# Split the dataset into training and testing sets\n",
        "X_train, X_test, y_train, y_test = train_test_split(X, y, test_size=0.2, random_state=42)\n",
        "\n",
        "class NeuralNetwork:\n",
        "    def __init__(self, input_size, hidden_size, output_size):\n",
        "        self.weights_input_hidden = np.random.rand(input_size, hidden_size)\n",
        "        self.weights_hidden_output = np.random.rand(hidden_size, output_size)\n",
        "        self.bias_hidden = np.random.rand(1, hidden_size)\n",
        "        self.bias_output = np.random.rand(1, output_size)\n",
        "        self.learning_rate = 0.01\n",
        "\n",
        "    def sigmoid(self, x):\n",
        "        return 1 / (1 + np.exp(-x))\n",
        "\n",
        "    def sigmoid_derivative(self, x):\n",
        "        return x * (1 - x)\n",
        "\n",
        "    def forward(self, inputs):\n",
        "        self.hidden = self.sigmoid(np.dot(inputs, self.weights_input_hidden) + self.bias_hidden)\n",
        "        self.output = self.sigmoid(np.dot(self.hidden, self.weights_hidden_output) + self.bias_output)\n",
        "        return self.output\n",
        "\n",
        "    def backward(self, inputs, targets):\n",
        "        output_error = targets - self.output\n",
        "        output_delta = output_error * self.sigmoid_derivative(self.output)\n",
        "\n",
        "        hidden_error = output_delta.dot(self.weights_hidden_output.T)\n",
        "        hidden_delta = hidden_error * self.sigmoid_derivative(self.hidden)\n",
        "\n",
        "        self.weights_hidden_output += self.hidden.T.dot(output_delta) * self.learning_rate\n",
        "        self.weights_input_hidden += inputs.T.dot(hidden_delta) * self.learning_rate\n",
        "        self.bias_output += np.sum(output_delta, axis=0) * self.learning_rate\n",
        "        self.bias_hidden += np.sum(hidden_delta, axis=0) * self.learning_rate\n",
        "\n",
        "    def train(self, inputs, targets, epochs):\n",
        "        for epoch in range(epochs):\n",
        "            self.forward(inputs)\n",
        "            self.backward(inputs, targets)\n",
        "\n",
        "    def predict(self, inputs):\n",
        "        return self.forward(inputs)\n",
        "\n",
        "# Initialize the neural network\n",
        "input_size = X_train.shape[1]\n",
        "hidden_size = 10\n",
        "output_size = y_train.shape[1]\n",
        "nn = NeuralNetwork(input_size, hidden_size, output_size)\n",
        "\n",
        "# Train the neural network\n",
        "nn.train(X_train, y_train, epochs=1000)\n",
        "\n",
        "# Test the trained model\n",
        "predictions = nn.predict(X_test)\n",
        "accuracy = np.mean(np.argmax(predictions, axis=1) == np.argmax(y_test, axis=1))\n",
        "print(f\"Test accuracy: {accuracy * 100:.2f}%\")\n"
      ],
      "metadata": {
        "colab": {
          "base_uri": "https://localhost:8080/"
        },
        "id": "_QCYeZZcby_7",
        "outputId": "eb8ac9ba-1cff-4791-80e2-a17050a2b0d1"
      },
      "execution_count": 20,
      "outputs": [
        {
          "output_type": "stream",
          "name": "stdout",
          "text": [
            "Test accuracy: 96.67%\n"
          ]
        }
      ]
    },
    {
      "cell_type": "code",
      "source": [],
      "metadata": {
        "id": "nS6uMwmAcv3F"
      },
      "execution_count": null,
      "outputs": []
    }
  ]
}